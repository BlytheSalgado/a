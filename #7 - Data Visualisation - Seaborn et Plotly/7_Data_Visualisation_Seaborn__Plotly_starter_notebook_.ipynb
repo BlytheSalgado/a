{
  "nbformat": 4,
  "nbformat_minor": 0,
  "metadata": {
    "colab": {
      "name": "#7 - Data Visualisation-Seaborn _Plotly_starter_notebook .ipynb",
      "provenance": []
    },
    "kernelspec": {
      "name": "python3",
      "display_name": "Python 3"
    }
  },
  "cells": [
    {
      "cell_type": "markdown",
      "metadata": {
        "id": "WopUfVEZpWO5",
        "colab_type": "text"
      },
      "source": [
        ""
      ]
    },
    {
      "cell_type": "markdown",
      "metadata": {
        "id": "LKqG9tvUpWjD",
        "colab_type": "text"
      },
      "source": [
        "# Apprendre à coder en Python pour l'Intelligence Artificielle\n",
        "## Episode 6 - Les libraries Numpy et Pandas\n",
        "\n",
        "<p align=\"center\">\n",
        "<a href=\"https://www.youtube.com/watch?v=qMGjh6rKIgw\" target=\"_blank\" ><img  src=\"https://github.com/anisayari/Youtube-apprendre-python-intelligence-artificielle/blob/master/%236%20-%20Les%20libraries%20Numpy%20et%20Pandas/cover-serie-6.png?raw=true\" width=\"800\" height=\"auto\"/></a>\n",
        "</p>\n"
      ]
    }
  ]
}